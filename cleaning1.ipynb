{
 "cells": [
  {
   "cell_type": "markdown",
   "metadata": {},
   "source": [
    "# Importing libraries "
   ]
  },
  {
   "cell_type": "code",
   "execution_count": 2,
   "metadata": {},
   "outputs": [],
   "source": [
    "import pandas as pd\n",
    "import numpy as np"
   ]
  },
  {
   "cell_type": "code",
   "execution_count": 3,
   "metadata": {},
   "outputs": [],
   "source": [
    "db = pd.read_csv('Summer-Olympic-medals-1976-to-2008.csv')\n",
    "# dataset from kaggle"
   ]
  },
  {
   "cell_type": "code",
   "execution_count": 4,
   "metadata": {},
   "outputs": [
    {
     "data": {
      "text/plain": [
       "<bound method DataFrame.info of            City    Year      Sport       Discipline                   Event  \\\n",
       "0      Montreal  1976.0   Aquatics           Diving          3m springboard   \n",
       "1      Montreal  1976.0   Aquatics           Diving          3m springboard   \n",
       "2      Montreal  1976.0   Aquatics           Diving          3m springboard   \n",
       "3      Montreal  1976.0   Aquatics           Diving          3m springboard   \n",
       "4      Montreal  1976.0   Aquatics           Diving            10m platform   \n",
       "5      Montreal  1976.0   Aquatics           Diving            10m platform   \n",
       "6      Montreal  1976.0   Aquatics           Diving            10m platform   \n",
       "7      Montreal  1976.0   Aquatics           Diving          3m springboard   \n",
       "8      Montreal  1976.0   Aquatics           Diving            10m platform   \n",
       "9      Montreal  1976.0   Aquatics           Diving            10m platform   \n",
       "10     Montreal  1976.0   Aquatics           Diving            10m platform   \n",
       "11     Montreal  1976.0   Aquatics           Diving          3m springboard   \n",
       "12     Montreal  1976.0   Aquatics         Swimming  4x100m freestyle relay   \n",
       "13     Montreal  1976.0   Aquatics         Swimming          400m freestyle   \n",
       "14     Montreal  1976.0   Aquatics         Swimming  4x100m freestyle relay   \n",
       "15     Montreal  1976.0   Aquatics         Swimming         1500m freestyle   \n",
       "16     Montreal  1976.0   Aquatics         Swimming  400m individual medley   \n",
       "17     Montreal  1976.0   Aquatics         Swimming     4x100m medley relay   \n",
       "18     Montreal  1976.0   Aquatics         Swimming          800m freestyle   \n",
       "19     Montreal  1976.0   Aquatics         Swimming          800m freestyle   \n",
       "20     Montreal  1976.0   Aquatics         Swimming  4x100m freestyle relay   \n",
       "21     Montreal  1976.0   Aquatics         Swimming         200m backstroke   \n",
       "22     Montreal  1976.0   Aquatics         Swimming          400m freestyle   \n",
       "23     Montreal  1976.0   Aquatics         Swimming  400m individual medley   \n",
       "24     Montreal  1976.0   Aquatics         Swimming     4x100m medley relay   \n",
       "25     Montreal  1976.0   Aquatics         Swimming          200m freestyle   \n",
       "26     Montreal  1976.0   Aquatics         Swimming          100m butterfly   \n",
       "27     Montreal  1976.0   Aquatics         Swimming         100m backstroke   \n",
       "28     Montreal  1976.0   Aquatics         Swimming         100m backstroke   \n",
       "29     Montreal  1976.0   Aquatics         Swimming         100m backstroke   \n",
       "...         ...     ...        ...              ...                     ...   \n",
       "15403   Beijing  2008.0  Wrestling  Wrestling Free.               74 - 84kg   \n",
       "15404   Beijing  2008.0  Wrestling  Wrestling Free.               55 - 63kg   \n",
       "15405   Beijing  2008.0  Wrestling  Wrestling Free.               48 - 55kg   \n",
       "15406   Beijing  2008.0  Wrestling  Wrestling Gre-R               66 - 74kg   \n",
       "15407   Beijing  2008.0  Wrestling  Wrestling Gre-R              96 - 120kg   \n",
       "15408   Beijing  2008.0  Wrestling  Wrestling Gre-R               66 - 74kg   \n",
       "15409   Beijing  2008.0  Wrestling  Wrestling Gre-R                  - 55kg   \n",
       "15410   Beijing  2008.0  Wrestling  Wrestling Gre-R               55 - 60kg   \n",
       "15411   Beijing  2008.0  Wrestling  Wrestling Gre-R               55 - 60kg   \n",
       "15412   Beijing  2008.0  Wrestling  Wrestling Gre-R                  - 55kg   \n",
       "15413   Beijing  2008.0  Wrestling  Wrestling Gre-R               84 - 96kg   \n",
       "15414   Beijing  2008.0  Wrestling  Wrestling Gre-R               74 - 84kg   \n",
       "15415   Beijing  2008.0  Wrestling  Wrestling Gre-R               60 - 66kg   \n",
       "15416   Beijing  2008.0  Wrestling  Wrestling Gre-R               60 - 66kg   \n",
       "15417   Beijing  2008.0  Wrestling  Wrestling Gre-R               60 - 66kg   \n",
       "15418   Beijing  2008.0  Wrestling  Wrestling Gre-R               55 - 60kg   \n",
       "15419   Beijing  2008.0  Wrestling  Wrestling Gre-R               74 - 84kg   \n",
       "15420   Beijing  2008.0  Wrestling  Wrestling Gre-R               84 - 96kg   \n",
       "15421   Beijing  2008.0  Wrestling  Wrestling Gre-R               84 - 96kg   \n",
       "15422   Beijing  2008.0  Wrestling  Wrestling Gre-R                  - 55kg   \n",
       "15423   Beijing  2008.0  Wrestling  Wrestling Gre-R               74 - 84kg   \n",
       "15424   Beijing  2008.0  Wrestling  Wrestling Gre-R              96 - 120kg   \n",
       "15425   Beijing  2008.0  Wrestling  Wrestling Gre-R                  - 55kg   \n",
       "15426   Beijing  2008.0  Wrestling  Wrestling Gre-R               84 - 96kg   \n",
       "15427   Beijing  2008.0  Wrestling  Wrestling Gre-R              96 - 120kg   \n",
       "15428   Beijing  2008.0  Wrestling  Wrestling Gre-R               66 - 74kg   \n",
       "15429   Beijing  2008.0  Wrestling  Wrestling Gre-R               66 - 74kg   \n",
       "15430   Beijing  2008.0  Wrestling  Wrestling Gre-R               55 - 60kg   \n",
       "15431   Beijing  2008.0  Wrestling  Wrestling Gre-R               60 - 66kg   \n",
       "15432   Beijing  2008.0  Wrestling  Wrestling Gre-R              96 - 120kg   \n",
       "\n",
       "                         Athlete Gender Country_Code        Country  \\\n",
       "0                K�HLER, Christa  Women          GDR   East Germany   \n",
       "1            KOSENKOV, Aleksandr    Men          URS   Soviet Union   \n",
       "2           BOGGS, Philip George    Men          USA  United States   \n",
       "3       CAGNOTTO, Giorgio Franco    Men          ITA          Italy   \n",
       "4         WILSON, Deborah Keplar  Women          USA  United States   \n",
       "5              LOUGANIS, Gregory    Men          USA  United States   \n",
       "6         VAYTSEKHOVSKAYA, Elena  Women          URS   Soviet Union   \n",
       "7      POTTER-MCINGVALE, Cynthia  Women          USA  United States   \n",
       "8                 DIBIASI, Klaus    Men          ITA          Italy   \n",
       "9              ALEINIK, Vladimir    Men          URS   Soviet Union   \n",
       "10       KNAPE-LINDBERGH, Ulrika  Women          SWE         Sweden   \n",
       "11        CHANDLER, Jennifer Kay  Women          USA  United States   \n",
       "12     BABASHOFF, Shirley Farber  Women          USA  United States   \n",
       "13          SHAW, Timothy Andrew    Men          USA  United States   \n",
       "14                PRIEMER, Petra  Women          GDR   East Germany   \n",
       "15              HOLLAND, Stephen    Men          AUS      Australia   \n",
       "16               SMIRNOV, Andrei    Men          URS   Soviet Union   \n",
       "17               ANKE, Hannelore  Women          GDR   East Germany   \n",
       "18     BABASHOFF, Shirley Farber  Women          USA  United States   \n",
       "19                 TH�MER, Petra  Women          GDR   East Germany   \n",
       "20                SMITH, Rebecca  Women          CAN         Canada   \n",
       "21            ROCCA, Peter Drake    Men          USA  United States   \n",
       "22         GOODELL, Brian Stuart    Men          USA  United States   \n",
       "23      MCKEE, Alexander Timothy    Men          USA  United States   \n",
       "24                EVANS, Clayton    Men          CAN         Canada   \n",
       "25        MONTGOMERY, James Paul    Men          USA  United States   \n",
       "26         VOGEL, Matthew Haynes    Men          USA  United States   \n",
       "27               MATTHES, Roland    Men          GDR   East Germany   \n",
       "28          NABER, John Phillips    Men          USA  United States   \n",
       "29            ROCCA, Peter Drake    Men          USA  United States   \n",
       "...                          ...    ...          ...            ...   \n",
       "15403         ABDUSALOMOV, Yusup    Men          TJK     Tajikistan   \n",
       "15404          SHALYGINA, Yelena  Women          KAZ     Kazakhstan   \n",
       "15405             VERBEEK, Tonya  Women          CAN         Canada   \n",
       "15406           CHANG, Yongxiang    Men          CHN          China   \n",
       "15407       MIZGAITIS, Mindaugas    Men          LTU      Lithuania   \n",
       "15408            YANAKIEV, Yavor    Men          BUL       Bulgaria   \n",
       "15409          BAYRAMOV, Rovshan    Men          AZE     Azerbaijan   \n",
       "15410      TENGIZBAYEV, Nurbakyt    Men          KAZ     Kazakhstan   \n",
       "15411         ALBIEV, Islam-Beka    Men          RUS         Russia   \n",
       "15412              AMOYAN, Roman    Men          ARM        Armenia   \n",
       "15413         KHUSHTOV, Aslanbek    Men          RUS         Russia   \n",
       "15414              AVLUCA, Nazmi    Men          TUR         Turkey   \n",
       "15415         SIAMIONAU, Mikhail    Men          BLR        Belarus   \n",
       "15416         BEGALIEV, Kanatbek    Men          KGZ     Kyrgyzstan   \n",
       "15417           VARDANYAN, Armen    Men          UKR        Ukraine   \n",
       "15418         TIUMENBAEV, Ruslan    Men          KGZ     Kyrgyzstan   \n",
       "15419              FODOR, Zoltan    Men          HUN        Hungary   \n",
       "15420              WHEELER, Adam    Men          USA  United States   \n",
       "15421            MAMBETOV, Asset    Men          KAZ     Kazakhstan   \n",
       "15422             MANKIEV, Nazyr    Men          RUS         Russia   \n",
       "15423           MINGUZZI, Andrea    Men          ITA          Italy   \n",
       "15424            PATRIKEEV, Yuri    Men          ARM        Armenia   \n",
       "15425             PARK, Eun-Chul    Men          KOR   Korea, South   \n",
       "15426             ENGLICH, Mirko    Men          GER        Germany   \n",
       "15427             BAROEV, Khasan    Men          RUS         Russia   \n",
       "15428         GUENOT, Christophe    Men          FRA         France   \n",
       "15429        KVIRKELIA, Manuchar    Men          GEO        Georgia   \n",
       "15430           RAHIMOV, Vitaliy    Men          AZE     Azerbaijan   \n",
       "15431             GUENOT, Steeve    Men          FRA         France   \n",
       "15432              LOPEZ, Mijain    Men          CUB           Cuba   \n",
       "\n",
       "      Event_gender   Medal  \n",
       "0                W  Silver  \n",
       "1                M  Bronze  \n",
       "2                M    Gold  \n",
       "3                M  Silver  \n",
       "4                W  Bronze  \n",
       "5                M  Silver  \n",
       "6                W    Gold  \n",
       "7                W  Bronze  \n",
       "8                M    Gold  \n",
       "9                M  Bronze  \n",
       "10               W  Silver  \n",
       "11               W    Gold  \n",
       "12               W    Gold  \n",
       "13               M  Silver  \n",
       "14               W  Silver  \n",
       "15               M  Bronze  \n",
       "16               M  Bronze  \n",
       "17               W    Gold  \n",
       "18               W  Silver  \n",
       "19               W    Gold  \n",
       "20               W  Bronze  \n",
       "21               M  Silver  \n",
       "22               M    Gold  \n",
       "23               M  Silver  \n",
       "24               M  Silver  \n",
       "25               M  Bronze  \n",
       "26               M    Gold  \n",
       "27               M  Bronze  \n",
       "28               M    Gold  \n",
       "29               M  Silver  \n",
       "...            ...     ...  \n",
       "15403            M  Silver  \n",
       "15404            W  Bronze  \n",
       "15405            W  Bronze  \n",
       "15406            M  Silver  \n",
       "15407            M  Bronze  \n",
       "15408            M  Bronze  \n",
       "15409            M  Silver  \n",
       "15410            M  Bronze  \n",
       "15411            M    Gold  \n",
       "15412            M  Bronze  \n",
       "15413            M    Gold  \n",
       "15414            M  Bronze  \n",
       "15415            M  Bronze  \n",
       "15416            M  Silver  \n",
       "15417            M  Bronze  \n",
       "15418            M  Bronze  \n",
       "15419            M  Silver  \n",
       "15420            M  Bronze  \n",
       "15421            M  Bronze  \n",
       "15422            M    Gold  \n",
       "15423            M    Gold  \n",
       "15424            M  Bronze  \n",
       "15425            M  Bronze  \n",
       "15426            M  Silver  \n",
       "15427            M  Silver  \n",
       "15428            M  Bronze  \n",
       "15429            M    Gold  \n",
       "15430            M  Silver  \n",
       "15431            M    Gold  \n",
       "15432            M    Gold  \n",
       "\n",
       "[15433 rows x 11 columns]>"
      ]
     },
     "execution_count": 4,
     "metadata": {},
     "output_type": "execute_result"
    }
   ],
   "source": [
    "db.info \n",
    "# shows basic info"
   ]
  },
  {
   "cell_type": "code",
   "execution_count": 10,
   "metadata": {},
   "outputs": [
    {
     "data": {
      "text/plain": [
       "City            117\n",
       "Year            117\n",
       "Sport           117\n",
       "Discipline      117\n",
       "Event           117\n",
       "Athlete         117\n",
       "Gender          117\n",
       "Country_Code    117\n",
       "Country         117\n",
       "Event_gender    117\n",
       "Medal           117\n",
       "dtype: int64"
      ]
     },
     "execution_count": 10,
     "metadata": {},
     "output_type": "execute_result"
    }
   ],
   "source": [
    "db.isnull().sum() \n",
    "# showing missing values in every row, 117 values missing in all"
   ]
  },
  {
   "cell_type": "code",
   "execution_count": 14,
   "metadata": {},
   "outputs": [
    {
     "data": {
      "text/plain": [
       "City            True\n",
       "Year            True\n",
       "Sport           True\n",
       "Discipline      True\n",
       "Event           True\n",
       "Athlete         True\n",
       "Gender          True\n",
       "Country_Code    True\n",
       "Country         True\n",
       "Event_gender    True\n",
       "Medal           True\n",
       "dtype: bool"
      ]
     },
     "execution_count": 14,
     "metadata": {},
     "output_type": "execute_result"
    }
   ],
   "source": [
    "db.isnull().any()\n",
    "# so there are missing values in all rows, showing true for all "
   ]
  },
  {
   "cell_type": "code",
   "execution_count": 17,
   "metadata": {},
   "outputs": [
    {
     "data": {
      "text/plain": [
       "City            15433\n",
       "Year            15433\n",
       "Sport           15433\n",
       "Discipline      15433\n",
       "Event           15433\n",
       "Athlete         15433\n",
       "Gender          15433\n",
       "Country_Code    15433\n",
       "Country         15433\n",
       "Event_gender    15433\n",
       "Medal           15433\n",
       "dtype: int64"
      ]
     },
     "execution_count": 17,
     "metadata": {},
     "output_type": "execute_result"
    }
   ],
   "source": [
    "db.isnull().count()\n",
    "# shows the count of all elements including all, regardless of missing or not"
   ]
  },
  {
   "cell_type": "code",
   "execution_count": 16,
   "metadata": {},
   "outputs": [
    {
     "data": {
      "text/plain": [
       "1287"
      ]
     },
     "execution_count": 16,
     "metadata": {},
     "output_type": "execute_result"
    }
   ],
   "source": [
    "db.isnull().sum().sum()\n",
    "# this is total number of missing values"
   ]
  },
  {
   "cell_type": "code",
   "execution_count": 21,
   "metadata": {},
   "outputs": [
    {
     "data": {
      "text/plain": [
       "(15433, 11)"
      ]
     },
     "execution_count": 21,
     "metadata": {},
     "output_type": "execute_result"
    }
   ],
   "source": [
    "db.shape\n",
    "# no of rows and columns"
   ]
  },
  {
   "cell_type": "code",
   "execution_count": 9,
   "metadata": {},
   "outputs": [
    {
     "data": {
      "text/html": [
       "<div>\n",
       "<style scoped>\n",
       "    .dataframe tbody tr th:only-of-type {\n",
       "        vertical-align: middle;\n",
       "    }\n",
       "\n",
       "    .dataframe tbody tr th {\n",
       "        vertical-align: top;\n",
       "    }\n",
       "\n",
       "    .dataframe thead th {\n",
       "        text-align: right;\n",
       "    }\n",
       "</style>\n",
       "<table border=\"1\" class=\"dataframe\">\n",
       "  <thead>\n",
       "    <tr style=\"text-align: right;\">\n",
       "      <th></th>\n",
       "      <th>Year</th>\n",
       "    </tr>\n",
       "  </thead>\n",
       "  <tbody>\n",
       "    <tr>\n",
       "      <th>count</th>\n",
       "      <td>15316.000000</td>\n",
       "    </tr>\n",
       "    <tr>\n",
       "      <th>mean</th>\n",
       "      <td>1993.620789</td>\n",
       "    </tr>\n",
       "    <tr>\n",
       "      <th>std</th>\n",
       "      <td>10.159851</td>\n",
       "    </tr>\n",
       "    <tr>\n",
       "      <th>min</th>\n",
       "      <td>1976.000000</td>\n",
       "    </tr>\n",
       "    <tr>\n",
       "      <th>25%</th>\n",
       "      <td>1984.000000</td>\n",
       "    </tr>\n",
       "    <tr>\n",
       "      <th>50%</th>\n",
       "      <td>1996.000000</td>\n",
       "    </tr>\n",
       "    <tr>\n",
       "      <th>75%</th>\n",
       "      <td>2004.000000</td>\n",
       "    </tr>\n",
       "    <tr>\n",
       "      <th>max</th>\n",
       "      <td>2008.000000</td>\n",
       "    </tr>\n",
       "  </tbody>\n",
       "</table>\n",
       "</div>"
      ],
      "text/plain": [
       "               Year\n",
       "count  15316.000000\n",
       "mean    1993.620789\n",
       "std       10.159851\n",
       "min     1976.000000\n",
       "25%     1984.000000\n",
       "50%     1996.000000\n",
       "75%     2004.000000\n",
       "max     2008.000000"
      ]
     },
     "execution_count": 9,
     "metadata": {},
     "output_type": "execute_result"
    }
   ],
   "source": [
    "db.describe()\n",
    "# shows the stats of data "
   ]
  },
  {
   "cell_type": "code",
   "execution_count": 25,
   "metadata": {},
   "outputs": [
    {
     "data": {
      "text/html": [
       "<div>\n",
       "<style scoped>\n",
       "    .dataframe tbody tr th:only-of-type {\n",
       "        vertical-align: middle;\n",
       "    }\n",
       "\n",
       "    .dataframe tbody tr th {\n",
       "        vertical-align: top;\n",
       "    }\n",
       "\n",
       "    .dataframe thead th {\n",
       "        text-align: right;\n",
       "    }\n",
       "</style>\n",
       "<table border=\"1\" class=\"dataframe\">\n",
       "  <thead>\n",
       "    <tr style=\"text-align: right;\">\n",
       "      <th></th>\n",
       "      <th>City</th>\n",
       "      <th>Year</th>\n",
       "      <th>Sport</th>\n",
       "      <th>Discipline</th>\n",
       "      <th>Event</th>\n",
       "      <th>Athlete</th>\n",
       "      <th>Gender</th>\n",
       "      <th>Country_Code</th>\n",
       "      <th>Country</th>\n",
       "      <th>Event_gender</th>\n",
       "      <th>Medal</th>\n",
       "    </tr>\n",
       "  </thead>\n",
       "  <tbody>\n",
       "    <tr>\n",
       "      <th>0</th>\n",
       "      <td>Montreal</td>\n",
       "      <td>1976.0</td>\n",
       "      <td>Aquatics</td>\n",
       "      <td>Diving</td>\n",
       "      <td>3m springboard</td>\n",
       "      <td>K�HLER, Christa</td>\n",
       "      <td>Women</td>\n",
       "      <td>GDR</td>\n",
       "      <td>East Germany</td>\n",
       "      <td>W</td>\n",
       "      <td>Silver</td>\n",
       "    </tr>\n",
       "    <tr>\n",
       "      <th>1</th>\n",
       "      <td>Montreal</td>\n",
       "      <td>1976.0</td>\n",
       "      <td>Aquatics</td>\n",
       "      <td>Diving</td>\n",
       "      <td>3m springboard</td>\n",
       "      <td>KOSENKOV, Aleksandr</td>\n",
       "      <td>Men</td>\n",
       "      <td>URS</td>\n",
       "      <td>Soviet Union</td>\n",
       "      <td>M</td>\n",
       "      <td>Bronze</td>\n",
       "    </tr>\n",
       "    <tr>\n",
       "      <th>2</th>\n",
       "      <td>Montreal</td>\n",
       "      <td>1976.0</td>\n",
       "      <td>Aquatics</td>\n",
       "      <td>Diving</td>\n",
       "      <td>3m springboard</td>\n",
       "      <td>BOGGS, Philip George</td>\n",
       "      <td>Men</td>\n",
       "      <td>USA</td>\n",
       "      <td>United States</td>\n",
       "      <td>M</td>\n",
       "      <td>Gold</td>\n",
       "    </tr>\n",
       "    <tr>\n",
       "      <th>3</th>\n",
       "      <td>Montreal</td>\n",
       "      <td>1976.0</td>\n",
       "      <td>Aquatics</td>\n",
       "      <td>Diving</td>\n",
       "      <td>3m springboard</td>\n",
       "      <td>CAGNOTTO, Giorgio Franco</td>\n",
       "      <td>Men</td>\n",
       "      <td>ITA</td>\n",
       "      <td>Italy</td>\n",
       "      <td>M</td>\n",
       "      <td>Silver</td>\n",
       "    </tr>\n",
       "    <tr>\n",
       "      <th>4</th>\n",
       "      <td>Montreal</td>\n",
       "      <td>1976.0</td>\n",
       "      <td>Aquatics</td>\n",
       "      <td>Diving</td>\n",
       "      <td>10m platform</td>\n",
       "      <td>WILSON, Deborah Keplar</td>\n",
       "      <td>Women</td>\n",
       "      <td>USA</td>\n",
       "      <td>United States</td>\n",
       "      <td>W</td>\n",
       "      <td>Bronze</td>\n",
       "    </tr>\n",
       "    <tr>\n",
       "      <th>5</th>\n",
       "      <td>Montreal</td>\n",
       "      <td>1976.0</td>\n",
       "      <td>Aquatics</td>\n",
       "      <td>Diving</td>\n",
       "      <td>10m platform</td>\n",
       "      <td>LOUGANIS, Gregory</td>\n",
       "      <td>Men</td>\n",
       "      <td>USA</td>\n",
       "      <td>United States</td>\n",
       "      <td>M</td>\n",
       "      <td>Silver</td>\n",
       "    </tr>\n",
       "    <tr>\n",
       "      <th>6</th>\n",
       "      <td>Montreal</td>\n",
       "      <td>1976.0</td>\n",
       "      <td>Aquatics</td>\n",
       "      <td>Diving</td>\n",
       "      <td>10m platform</td>\n",
       "      <td>VAYTSEKHOVSKAYA, Elena</td>\n",
       "      <td>Women</td>\n",
       "      <td>URS</td>\n",
       "      <td>Soviet Union</td>\n",
       "      <td>W</td>\n",
       "      <td>Gold</td>\n",
       "    </tr>\n",
       "    <tr>\n",
       "      <th>7</th>\n",
       "      <td>Montreal</td>\n",
       "      <td>1976.0</td>\n",
       "      <td>Aquatics</td>\n",
       "      <td>Diving</td>\n",
       "      <td>3m springboard</td>\n",
       "      <td>POTTER-MCINGVALE, Cynthia</td>\n",
       "      <td>Women</td>\n",
       "      <td>USA</td>\n",
       "      <td>United States</td>\n",
       "      <td>W</td>\n",
       "      <td>Bronze</td>\n",
       "    </tr>\n",
       "    <tr>\n",
       "      <th>8</th>\n",
       "      <td>Montreal</td>\n",
       "      <td>1976.0</td>\n",
       "      <td>Aquatics</td>\n",
       "      <td>Diving</td>\n",
       "      <td>10m platform</td>\n",
       "      <td>DIBIASI, Klaus</td>\n",
       "      <td>Men</td>\n",
       "      <td>ITA</td>\n",
       "      <td>Italy</td>\n",
       "      <td>M</td>\n",
       "      <td>Gold</td>\n",
       "    </tr>\n",
       "    <tr>\n",
       "      <th>9</th>\n",
       "      <td>Montreal</td>\n",
       "      <td>1976.0</td>\n",
       "      <td>Aquatics</td>\n",
       "      <td>Diving</td>\n",
       "      <td>10m platform</td>\n",
       "      <td>ALEINIK, Vladimir</td>\n",
       "      <td>Men</td>\n",
       "      <td>URS</td>\n",
       "      <td>Soviet Union</td>\n",
       "      <td>M</td>\n",
       "      <td>Bronze</td>\n",
       "    </tr>\n",
       "  </tbody>\n",
       "</table>\n",
       "</div>"
      ],
      "text/plain": [
       "       City    Year     Sport Discipline           Event  \\\n",
       "0  Montreal  1976.0  Aquatics     Diving  3m springboard   \n",
       "1  Montreal  1976.0  Aquatics     Diving  3m springboard   \n",
       "2  Montreal  1976.0  Aquatics     Diving  3m springboard   \n",
       "3  Montreal  1976.0  Aquatics     Diving  3m springboard   \n",
       "4  Montreal  1976.0  Aquatics     Diving    10m platform   \n",
       "5  Montreal  1976.0  Aquatics     Diving    10m platform   \n",
       "6  Montreal  1976.0  Aquatics     Diving    10m platform   \n",
       "7  Montreal  1976.0  Aquatics     Diving  3m springboard   \n",
       "8  Montreal  1976.0  Aquatics     Diving    10m platform   \n",
       "9  Montreal  1976.0  Aquatics     Diving    10m platform   \n",
       "\n",
       "                     Athlete Gender Country_Code        Country Event_gender  \\\n",
       "0            K�HLER, Christa  Women          GDR   East Germany            W   \n",
       "1        KOSENKOV, Aleksandr    Men          URS   Soviet Union            M   \n",
       "2       BOGGS, Philip George    Men          USA  United States            M   \n",
       "3   CAGNOTTO, Giorgio Franco    Men          ITA          Italy            M   \n",
       "4     WILSON, Deborah Keplar  Women          USA  United States            W   \n",
       "5          LOUGANIS, Gregory    Men          USA  United States            M   \n",
       "6     VAYTSEKHOVSKAYA, Elena  Women          URS   Soviet Union            W   \n",
       "7  POTTER-MCINGVALE, Cynthia  Women          USA  United States            W   \n",
       "8             DIBIASI, Klaus    Men          ITA          Italy            M   \n",
       "9          ALEINIK, Vladimir    Men          URS   Soviet Union            M   \n",
       "\n",
       "    Medal  \n",
       "0  Silver  \n",
       "1  Bronze  \n",
       "2    Gold  \n",
       "3  Silver  \n",
       "4  Bronze  \n",
       "5  Silver  \n",
       "6    Gold  \n",
       "7  Bronze  \n",
       "8    Gold  \n",
       "9  Bronze  "
      ]
     },
     "execution_count": 25,
     "metadata": {},
     "output_type": "execute_result"
    }
   ],
   "source": [
    "db.head(10)"
   ]
  },
  {
   "cell_type": "markdown",
   "metadata": {},
   "source": [
    "# logistic regression "
   ]
  },
  {
   "cell_type": "code",
   "execution_count": 35,
   "metadata": {},
   "outputs": [
    {
     "ename": "KeyError",
     "evalue": "\"['Athlete'] not found in axis\"",
     "output_type": "error",
     "traceback": [
      "\u001b[1;31m---------------------------------------------------------------------------\u001b[0m",
      "\u001b[1;31mKeyError\u001b[0m                                  Traceback (most recent call last)",
      "\u001b[1;32m<ipython-input-35-8bfef6a57b9d>\u001b[0m in \u001b[0;36m<module>\u001b[1;34m\u001b[0m\n\u001b[0;32m      2\u001b[0m \u001b[1;33m\u001b[0m\u001b[0m\n\u001b[0;32m      3\u001b[0m \u001b[1;31m# db.drop(\"Discipline\",axis=1,inplace = True)\u001b[0m\u001b[1;33m\u001b[0m\u001b[1;33m\u001b[0m\u001b[1;33m\u001b[0m\u001b[0m\n\u001b[1;32m----> 4\u001b[1;33m \u001b[0mdb\u001b[0m\u001b[1;33m.\u001b[0m\u001b[0mdrop\u001b[0m\u001b[1;33m(\u001b[0m\u001b[1;34m\"Athlete\"\u001b[0m\u001b[1;33m,\u001b[0m\u001b[0maxis\u001b[0m\u001b[1;33m=\u001b[0m\u001b[1;36m1\u001b[0m\u001b[1;33m,\u001b[0m\u001b[0minplace\u001b[0m \u001b[1;33m=\u001b[0m \u001b[1;32mTrue\u001b[0m\u001b[1;33m)\u001b[0m\u001b[1;33m\u001b[0m\u001b[1;33m\u001b[0m\u001b[0m\n\u001b[0m\u001b[0;32m      5\u001b[0m \u001b[0mdb\u001b[0m\u001b[1;33m.\u001b[0m\u001b[0mdrop\u001b[0m\u001b[1;33m(\u001b[0m\u001b[1;34m\"Event\"\u001b[0m\u001b[1;33m,\u001b[0m\u001b[0maxis\u001b[0m\u001b[1;33m=\u001b[0m\u001b[1;36m1\u001b[0m\u001b[1;33m,\u001b[0m\u001b[0minplace\u001b[0m \u001b[1;33m=\u001b[0m \u001b[1;32mTrue\u001b[0m\u001b[1;33m)\u001b[0m\u001b[1;33m\u001b[0m\u001b[1;33m\u001b[0m\u001b[0m\n\u001b[0;32m      6\u001b[0m \u001b[0mdb\u001b[0m\u001b[1;33m.\u001b[0m\u001b[0mdrop\u001b[0m\u001b[1;33m(\u001b[0m\u001b[1;34m\"City\"\u001b[0m\u001b[1;33m,\u001b[0m\u001b[0maxis\u001b[0m\u001b[1;33m=\u001b[0m\u001b[1;36m1\u001b[0m\u001b[1;33m,\u001b[0m\u001b[0minplace\u001b[0m \u001b[1;33m=\u001b[0m \u001b[1;32mTrue\u001b[0m\u001b[1;33m)\u001b[0m\u001b[1;33m\u001b[0m\u001b[1;33m\u001b[0m\u001b[0m\n",
      "\u001b[1;32m~\\Anaconda3\\lib\\site-packages\\pandas\\core\\frame.py\u001b[0m in \u001b[0;36mdrop\u001b[1;34m(self, labels, axis, index, columns, level, inplace, errors)\u001b[0m\n\u001b[0;32m   3938\u001b[0m                                            \u001b[0mindex\u001b[0m\u001b[1;33m=\u001b[0m\u001b[0mindex\u001b[0m\u001b[1;33m,\u001b[0m \u001b[0mcolumns\u001b[0m\u001b[1;33m=\u001b[0m\u001b[0mcolumns\u001b[0m\u001b[1;33m,\u001b[0m\u001b[1;33m\u001b[0m\u001b[1;33m\u001b[0m\u001b[0m\n\u001b[0;32m   3939\u001b[0m                                            \u001b[0mlevel\u001b[0m\u001b[1;33m=\u001b[0m\u001b[0mlevel\u001b[0m\u001b[1;33m,\u001b[0m \u001b[0minplace\u001b[0m\u001b[1;33m=\u001b[0m\u001b[0minplace\u001b[0m\u001b[1;33m,\u001b[0m\u001b[1;33m\u001b[0m\u001b[1;33m\u001b[0m\u001b[0m\n\u001b[1;32m-> 3940\u001b[1;33m                                            errors=errors)\n\u001b[0m\u001b[0;32m   3941\u001b[0m \u001b[1;33m\u001b[0m\u001b[0m\n\u001b[0;32m   3942\u001b[0m     @rewrite_axis_style_signature('mapper', [('copy', True),\n",
      "\u001b[1;32m~\\Anaconda3\\lib\\site-packages\\pandas\\core\\generic.py\u001b[0m in \u001b[0;36mdrop\u001b[1;34m(self, labels, axis, index, columns, level, inplace, errors)\u001b[0m\n\u001b[0;32m   3778\u001b[0m         \u001b[1;32mfor\u001b[0m \u001b[0maxis\u001b[0m\u001b[1;33m,\u001b[0m \u001b[0mlabels\u001b[0m \u001b[1;32min\u001b[0m \u001b[0maxes\u001b[0m\u001b[1;33m.\u001b[0m\u001b[0mitems\u001b[0m\u001b[1;33m(\u001b[0m\u001b[1;33m)\u001b[0m\u001b[1;33m:\u001b[0m\u001b[1;33m\u001b[0m\u001b[1;33m\u001b[0m\u001b[0m\n\u001b[0;32m   3779\u001b[0m             \u001b[1;32mif\u001b[0m \u001b[0mlabels\u001b[0m \u001b[1;32mis\u001b[0m \u001b[1;32mnot\u001b[0m \u001b[1;32mNone\u001b[0m\u001b[1;33m:\u001b[0m\u001b[1;33m\u001b[0m\u001b[1;33m\u001b[0m\u001b[0m\n\u001b[1;32m-> 3780\u001b[1;33m                 \u001b[0mobj\u001b[0m \u001b[1;33m=\u001b[0m \u001b[0mobj\u001b[0m\u001b[1;33m.\u001b[0m\u001b[0m_drop_axis\u001b[0m\u001b[1;33m(\u001b[0m\u001b[0mlabels\u001b[0m\u001b[1;33m,\u001b[0m \u001b[0maxis\u001b[0m\u001b[1;33m,\u001b[0m \u001b[0mlevel\u001b[0m\u001b[1;33m=\u001b[0m\u001b[0mlevel\u001b[0m\u001b[1;33m,\u001b[0m \u001b[0merrors\u001b[0m\u001b[1;33m=\u001b[0m\u001b[0merrors\u001b[0m\u001b[1;33m)\u001b[0m\u001b[1;33m\u001b[0m\u001b[1;33m\u001b[0m\u001b[0m\n\u001b[0m\u001b[0;32m   3781\u001b[0m \u001b[1;33m\u001b[0m\u001b[0m\n\u001b[0;32m   3782\u001b[0m         \u001b[1;32mif\u001b[0m \u001b[0minplace\u001b[0m\u001b[1;33m:\u001b[0m\u001b[1;33m\u001b[0m\u001b[1;33m\u001b[0m\u001b[0m\n",
      "\u001b[1;32m~\\Anaconda3\\lib\\site-packages\\pandas\\core\\generic.py\u001b[0m in \u001b[0;36m_drop_axis\u001b[1;34m(self, labels, axis, level, errors)\u001b[0m\n\u001b[0;32m   3810\u001b[0m                 \u001b[0mnew_axis\u001b[0m \u001b[1;33m=\u001b[0m \u001b[0maxis\u001b[0m\u001b[1;33m.\u001b[0m\u001b[0mdrop\u001b[0m\u001b[1;33m(\u001b[0m\u001b[0mlabels\u001b[0m\u001b[1;33m,\u001b[0m \u001b[0mlevel\u001b[0m\u001b[1;33m=\u001b[0m\u001b[0mlevel\u001b[0m\u001b[1;33m,\u001b[0m \u001b[0merrors\u001b[0m\u001b[1;33m=\u001b[0m\u001b[0merrors\u001b[0m\u001b[1;33m)\u001b[0m\u001b[1;33m\u001b[0m\u001b[1;33m\u001b[0m\u001b[0m\n\u001b[0;32m   3811\u001b[0m             \u001b[1;32melse\u001b[0m\u001b[1;33m:\u001b[0m\u001b[1;33m\u001b[0m\u001b[1;33m\u001b[0m\u001b[0m\n\u001b[1;32m-> 3812\u001b[1;33m                 \u001b[0mnew_axis\u001b[0m \u001b[1;33m=\u001b[0m \u001b[0maxis\u001b[0m\u001b[1;33m.\u001b[0m\u001b[0mdrop\u001b[0m\u001b[1;33m(\u001b[0m\u001b[0mlabels\u001b[0m\u001b[1;33m,\u001b[0m \u001b[0merrors\u001b[0m\u001b[1;33m=\u001b[0m\u001b[0merrors\u001b[0m\u001b[1;33m)\u001b[0m\u001b[1;33m\u001b[0m\u001b[1;33m\u001b[0m\u001b[0m\n\u001b[0m\u001b[0;32m   3813\u001b[0m             \u001b[0mresult\u001b[0m \u001b[1;33m=\u001b[0m \u001b[0mself\u001b[0m\u001b[1;33m.\u001b[0m\u001b[0mreindex\u001b[0m\u001b[1;33m(\u001b[0m\u001b[1;33m**\u001b[0m\u001b[1;33m{\u001b[0m\u001b[0maxis_name\u001b[0m\u001b[1;33m:\u001b[0m \u001b[0mnew_axis\u001b[0m\u001b[1;33m}\u001b[0m\u001b[1;33m)\u001b[0m\u001b[1;33m\u001b[0m\u001b[1;33m\u001b[0m\u001b[0m\n\u001b[0;32m   3814\u001b[0m \u001b[1;33m\u001b[0m\u001b[0m\n",
      "\u001b[1;32m~\\Anaconda3\\lib\\site-packages\\pandas\\core\\indexes\\base.py\u001b[0m in \u001b[0;36mdrop\u001b[1;34m(self, labels, errors)\u001b[0m\n\u001b[0;32m   4963\u001b[0m             \u001b[1;32mif\u001b[0m \u001b[0merrors\u001b[0m \u001b[1;33m!=\u001b[0m \u001b[1;34m'ignore'\u001b[0m\u001b[1;33m:\u001b[0m\u001b[1;33m\u001b[0m\u001b[1;33m\u001b[0m\u001b[0m\n\u001b[0;32m   4964\u001b[0m                 raise KeyError(\n\u001b[1;32m-> 4965\u001b[1;33m                     '{} not found in axis'.format(labels[mask]))\n\u001b[0m\u001b[0;32m   4966\u001b[0m             \u001b[0mindexer\u001b[0m \u001b[1;33m=\u001b[0m \u001b[0mindexer\u001b[0m\u001b[1;33m[\u001b[0m\u001b[1;33m~\u001b[0m\u001b[0mmask\u001b[0m\u001b[1;33m]\u001b[0m\u001b[1;33m\u001b[0m\u001b[1;33m\u001b[0m\u001b[0m\n\u001b[0;32m   4967\u001b[0m         \u001b[1;32mreturn\u001b[0m \u001b[0mself\u001b[0m\u001b[1;33m.\u001b[0m\u001b[0mdelete\u001b[0m\u001b[1;33m(\u001b[0m\u001b[0mindexer\u001b[0m\u001b[1;33m)\u001b[0m\u001b[1;33m\u001b[0m\u001b[1;33m\u001b[0m\u001b[0m\n",
      "\u001b[1;31mKeyError\u001b[0m: \"['Athlete'] not found in axis\""
     ]
    }
   ],
   "source": [
    "#  y = db['Discipline']\n",
    "\n",
    "# db.drop(\"Discipline\",axis=1,inplace = True)\n",
    "db.drop(\"Athlete\",axis=1,inplace = True)\n",
    "db.drop(\"Event\",axis=1,inplace = True)\n",
    "db.drop(\"City\",axis=1,inplace = True)\n",
    "db.drop(\"Country_Code\",axis=1,inplace = True)\n",
    "db.drop(\"Event_gender\",axis=1,inplace=True)"
   ]
  },
  {
   "cell_type": "code",
   "execution_count": 36,
   "metadata": {},
   "outputs": [
    {
     "data": {
      "text/html": [
       "<div>\n",
       "<style scoped>\n",
       "    .dataframe tbody tr th:only-of-type {\n",
       "        vertical-align: middle;\n",
       "    }\n",
       "\n",
       "    .dataframe tbody tr th {\n",
       "        vertical-align: top;\n",
       "    }\n",
       "\n",
       "    .dataframe thead th {\n",
       "        text-align: right;\n",
       "    }\n",
       "</style>\n",
       "<table border=\"1\" class=\"dataframe\">\n",
       "  <thead>\n",
       "    <tr style=\"text-align: right;\">\n",
       "      <th></th>\n",
       "      <th>Year</th>\n",
       "      <th>Sport</th>\n",
       "      <th>Gender</th>\n",
       "      <th>Country</th>\n",
       "      <th>Event_gender</th>\n",
       "      <th>Medal</th>\n",
       "    </tr>\n",
       "  </thead>\n",
       "  <tbody>\n",
       "    <tr>\n",
       "      <th>0</th>\n",
       "      <td>1976.0</td>\n",
       "      <td>Aquatics</td>\n",
       "      <td>Women</td>\n",
       "      <td>East Germany</td>\n",
       "      <td>W</td>\n",
       "      <td>Silver</td>\n",
       "    </tr>\n",
       "    <tr>\n",
       "      <th>1</th>\n",
       "      <td>1976.0</td>\n",
       "      <td>Aquatics</td>\n",
       "      <td>Men</td>\n",
       "      <td>Soviet Union</td>\n",
       "      <td>M</td>\n",
       "      <td>Bronze</td>\n",
       "    </tr>\n",
       "    <tr>\n",
       "      <th>2</th>\n",
       "      <td>1976.0</td>\n",
       "      <td>Aquatics</td>\n",
       "      <td>Men</td>\n",
       "      <td>United States</td>\n",
       "      <td>M</td>\n",
       "      <td>Gold</td>\n",
       "    </tr>\n",
       "    <tr>\n",
       "      <th>3</th>\n",
       "      <td>1976.0</td>\n",
       "      <td>Aquatics</td>\n",
       "      <td>Men</td>\n",
       "      <td>Italy</td>\n",
       "      <td>M</td>\n",
       "      <td>Silver</td>\n",
       "    </tr>\n",
       "    <tr>\n",
       "      <th>4</th>\n",
       "      <td>1976.0</td>\n",
       "      <td>Aquatics</td>\n",
       "      <td>Women</td>\n",
       "      <td>United States</td>\n",
       "      <td>W</td>\n",
       "      <td>Bronze</td>\n",
       "    </tr>\n",
       "  </tbody>\n",
       "</table>\n",
       "</div>"
      ],
      "text/plain": [
       "     Year     Sport Gender        Country Event_gender   Medal\n",
       "0  1976.0  Aquatics  Women   East Germany            W  Silver\n",
       "1  1976.0  Aquatics    Men   Soviet Union            M  Bronze\n",
       "2  1976.0  Aquatics    Men  United States            M    Gold\n",
       "3  1976.0  Aquatics    Men          Italy            M  Silver\n",
       "4  1976.0  Aquatics  Women  United States            W  Bronze"
      ]
     },
     "execution_count": 36,
     "metadata": {},
     "output_type": "execute_result"
    }
   ],
   "source": [
    "db.head()"
   ]
  },
  {
   "cell_type": "code",
   "execution_count": 37,
   "metadata": {},
   "outputs": [
    {
     "data": {
      "text/plain": [
       "702"
      ]
     },
     "execution_count": 37,
     "metadata": {},
     "output_type": "execute_result"
    }
   ],
   "source": [
    "db.isnull().sum().sum()"
   ]
  },
  {
   "cell_type": "code",
   "execution_count": 38,
   "metadata": {},
   "outputs": [
    {
     "name": "stdout",
     "output_type": "stream",
     "text": [
      "<class 'pandas.core.frame.DataFrame'>\n",
      "RangeIndex: 15433 entries, 0 to 15432\n",
      "Data columns (total 6 columns):\n",
      "Year            15316 non-null float64\n",
      "Sport           15316 non-null object\n",
      "Gender          15316 non-null object\n",
      "Country         15316 non-null object\n",
      "Event_gender    15316 non-null object\n",
      "Medal           15316 non-null object\n",
      "dtypes: float64(1), object(5)\n",
      "memory usage: 723.5+ KB\n"
     ]
    }
   ],
   "source": [
    "db.info()"
   ]
  },
  {
   "cell_type": "code",
   "execution_count": 32,
   "metadata": {},
   "outputs": [
    {
     "name": "stdout",
     "output_type": "stream",
     "text": [
      "Year            117\n",
      "Sport           117\n",
      "Gender          117\n",
      "Country         117\n",
      "Event_gender    117\n",
      "Medal           117\n",
      "dtype: int64\n"
     ]
    }
   ],
   "source": [
    "print(db.isnull().sum())"
   ]
  },
  {
   "cell_type": "code",
   "execution_count": 39,
   "metadata": {},
   "outputs": [
    {
     "name": "stdout",
     "output_type": "stream",
     "text": [
      "<class 'pandas.core.frame.DataFrame'>\n",
      "RangeIndex: 15433 entries, 0 to 15432\n",
      "Data columns (total 6 columns):\n",
      "Year            15433 non-null float64\n",
      "Sport           15316 non-null object\n",
      "Gender          15316 non-null object\n",
      "Country         15316 non-null object\n",
      "Event_gender    15316 non-null object\n",
      "Medal           15316 non-null object\n",
      "dtypes: float64(1), object(5)\n",
      "memory usage: 723.5+ KB\n"
     ]
    }
   ],
   "source": [
    "updated_db= db\n",
    "updated_db['Year']=updated_db['Year'].fillna(updated_db['Year'].mean())\n",
    "updated_db.info()"
   ]
  },
  {
   "cell_type": "code",
   "execution_count": 40,
   "metadata": {},
   "outputs": [
    {
     "name": "stderr",
     "output_type": "stream",
     "text": [
      "C:\\Users\\Rashmi\\Anaconda3\\lib\\site-packages\\sklearn\\linear_model\\logistic.py:432: FutureWarning: Default solver will be changed to 'lbfgs' in 0.22. Specify a solver to silence this warning.\n",
      "  FutureWarning)\n"
     ]
    },
    {
     "ename": "ValueError",
     "evalue": "could not convert string to float: 'Gold'",
     "output_type": "error",
     "traceback": [
      "\u001b[1;31m---------------------------------------------------------------------------\u001b[0m",
      "\u001b[1;31mValueError\u001b[0m                                Traceback (most recent call last)",
      "\u001b[1;32m<ipython-input-40-3cd8aa116bdc>\u001b[0m in \u001b[0;36m<module>\u001b[1;34m\u001b[0m\n\u001b[0;32m      4\u001b[0m \u001b[1;32mfrom\u001b[0m \u001b[0msklearn\u001b[0m\u001b[1;33m.\u001b[0m\u001b[0mlinear_model\u001b[0m \u001b[1;32mimport\u001b[0m \u001b[0mLogisticRegression\u001b[0m\u001b[1;33m\u001b[0m\u001b[1;33m\u001b[0m\u001b[0m\n\u001b[0;32m      5\u001b[0m \u001b[0mlr\u001b[0m \u001b[1;33m=\u001b[0m \u001b[0mLogisticRegression\u001b[0m\u001b[1;33m(\u001b[0m\u001b[1;33m)\u001b[0m\u001b[1;33m\u001b[0m\u001b[1;33m\u001b[0m\u001b[0m\n\u001b[1;32m----> 6\u001b[1;33m \u001b[0mlr\u001b[0m\u001b[1;33m.\u001b[0m\u001b[0mfit\u001b[0m\u001b[1;33m(\u001b[0m\u001b[0mx_train\u001b[0m\u001b[1;33m,\u001b[0m\u001b[0my_train\u001b[0m\u001b[1;33m)\u001b[0m\u001b[1;33m\u001b[0m\u001b[1;33m\u001b[0m\u001b[0m\n\u001b[0m\u001b[0;32m      7\u001b[0m \u001b[0mpred\u001b[0m \u001b[1;33m=\u001b[0m \u001b[0mlr\u001b[0m\u001b[1;33m.\u001b[0m\u001b[0mpredict\u001b[0m\u001b[1;33m(\u001b[0m\u001b[0mx_text\u001b[0m\u001b[1;33m)\u001b[0m\u001b[1;33m\u001b[0m\u001b[1;33m\u001b[0m\u001b[0m\n\u001b[0;32m      8\u001b[0m \u001b[0mprint\u001b[0m\u001b[1;33m(\u001b[0m\u001b[0mmetrics\u001b[0m\u001b[1;33m.\u001b[0m\u001b[0maccuracy_score\u001b[0m\u001b[1;33m(\u001b[0m\u001b[0mpred\u001b[0m\u001b[1;33m,\u001b[0m\u001b[0my_test\u001b[0m\u001b[1;33m)\u001b[0m\u001b[1;33m)\u001b[0m\u001b[1;33m\u001b[0m\u001b[1;33m\u001b[0m\u001b[0m\n",
      "\u001b[1;32m~\\Anaconda3\\lib\\site-packages\\sklearn\\linear_model\\logistic.py\u001b[0m in \u001b[0;36mfit\u001b[1;34m(self, X, y, sample_weight)\u001b[0m\n\u001b[0;32m   1530\u001b[0m \u001b[1;33m\u001b[0m\u001b[0m\n\u001b[0;32m   1531\u001b[0m         X, y = check_X_y(X, y, accept_sparse='csr', dtype=_dtype, order=\"C\",\n\u001b[1;32m-> 1532\u001b[1;33m                          accept_large_sparse=solver != 'liblinear')\n\u001b[0m\u001b[0;32m   1533\u001b[0m         \u001b[0mcheck_classification_targets\u001b[0m\u001b[1;33m(\u001b[0m\u001b[0my\u001b[0m\u001b[1;33m)\u001b[0m\u001b[1;33m\u001b[0m\u001b[1;33m\u001b[0m\u001b[0m\n\u001b[0;32m   1534\u001b[0m         \u001b[0mself\u001b[0m\u001b[1;33m.\u001b[0m\u001b[0mclasses_\u001b[0m \u001b[1;33m=\u001b[0m \u001b[0mnp\u001b[0m\u001b[1;33m.\u001b[0m\u001b[0munique\u001b[0m\u001b[1;33m(\u001b[0m\u001b[0my\u001b[0m\u001b[1;33m)\u001b[0m\u001b[1;33m\u001b[0m\u001b[1;33m\u001b[0m\u001b[0m\n",
      "\u001b[1;32m~\\Anaconda3\\lib\\site-packages\\sklearn\\utils\\validation.py\u001b[0m in \u001b[0;36mcheck_X_y\u001b[1;34m(X, y, accept_sparse, accept_large_sparse, dtype, order, copy, force_all_finite, ensure_2d, allow_nd, multi_output, ensure_min_samples, ensure_min_features, y_numeric, warn_on_dtype, estimator)\u001b[0m\n\u001b[0;32m    717\u001b[0m                     \u001b[0mensure_min_features\u001b[0m\u001b[1;33m=\u001b[0m\u001b[0mensure_min_features\u001b[0m\u001b[1;33m,\u001b[0m\u001b[1;33m\u001b[0m\u001b[1;33m\u001b[0m\u001b[0m\n\u001b[0;32m    718\u001b[0m                     \u001b[0mwarn_on_dtype\u001b[0m\u001b[1;33m=\u001b[0m\u001b[0mwarn_on_dtype\u001b[0m\u001b[1;33m,\u001b[0m\u001b[1;33m\u001b[0m\u001b[1;33m\u001b[0m\u001b[0m\n\u001b[1;32m--> 719\u001b[1;33m                     estimator=estimator)\n\u001b[0m\u001b[0;32m    720\u001b[0m     \u001b[1;32mif\u001b[0m \u001b[0mmulti_output\u001b[0m\u001b[1;33m:\u001b[0m\u001b[1;33m\u001b[0m\u001b[1;33m\u001b[0m\u001b[0m\n\u001b[0;32m    721\u001b[0m         y = check_array(y, 'csr', force_all_finite=True, ensure_2d=False,\n",
      "\u001b[1;32m~\\Anaconda3\\lib\\site-packages\\sklearn\\utils\\validation.py\u001b[0m in \u001b[0;36mcheck_array\u001b[1;34m(array, accept_sparse, accept_large_sparse, dtype, order, copy, force_all_finite, ensure_2d, allow_nd, ensure_min_samples, ensure_min_features, warn_on_dtype, estimator)\u001b[0m\n\u001b[0;32m    494\u001b[0m             \u001b[1;32mtry\u001b[0m\u001b[1;33m:\u001b[0m\u001b[1;33m\u001b[0m\u001b[1;33m\u001b[0m\u001b[0m\n\u001b[0;32m    495\u001b[0m                 \u001b[0mwarnings\u001b[0m\u001b[1;33m.\u001b[0m\u001b[0msimplefilter\u001b[0m\u001b[1;33m(\u001b[0m\u001b[1;34m'error'\u001b[0m\u001b[1;33m,\u001b[0m \u001b[0mComplexWarning\u001b[0m\u001b[1;33m)\u001b[0m\u001b[1;33m\u001b[0m\u001b[1;33m\u001b[0m\u001b[0m\n\u001b[1;32m--> 496\u001b[1;33m                 \u001b[0marray\u001b[0m \u001b[1;33m=\u001b[0m \u001b[0mnp\u001b[0m\u001b[1;33m.\u001b[0m\u001b[0masarray\u001b[0m\u001b[1;33m(\u001b[0m\u001b[0marray\u001b[0m\u001b[1;33m,\u001b[0m \u001b[0mdtype\u001b[0m\u001b[1;33m=\u001b[0m\u001b[0mdtype\u001b[0m\u001b[1;33m,\u001b[0m \u001b[0morder\u001b[0m\u001b[1;33m=\u001b[0m\u001b[0morder\u001b[0m\u001b[1;33m)\u001b[0m\u001b[1;33m\u001b[0m\u001b[1;33m\u001b[0m\u001b[0m\n\u001b[0m\u001b[0;32m    497\u001b[0m             \u001b[1;32mexcept\u001b[0m \u001b[0mComplexWarning\u001b[0m\u001b[1;33m:\u001b[0m\u001b[1;33m\u001b[0m\u001b[1;33m\u001b[0m\u001b[0m\n\u001b[0;32m    498\u001b[0m                 raise ValueError(\"Complex data not supported\\n\"\n",
      "\u001b[1;32m~\\Anaconda3\\lib\\site-packages\\numpy\\core\\numeric.py\u001b[0m in \u001b[0;36masarray\u001b[1;34m(a, dtype, order)\u001b[0m\n\u001b[0;32m    536\u001b[0m \u001b[1;33m\u001b[0m\u001b[0m\n\u001b[0;32m    537\u001b[0m     \"\"\"\n\u001b[1;32m--> 538\u001b[1;33m     \u001b[1;32mreturn\u001b[0m \u001b[0marray\u001b[0m\u001b[1;33m(\u001b[0m\u001b[0ma\u001b[0m\u001b[1;33m,\u001b[0m \u001b[0mdtype\u001b[0m\u001b[1;33m,\u001b[0m \u001b[0mcopy\u001b[0m\u001b[1;33m=\u001b[0m\u001b[1;32mFalse\u001b[0m\u001b[1;33m,\u001b[0m \u001b[0morder\u001b[0m\u001b[1;33m=\u001b[0m\u001b[0morder\u001b[0m\u001b[1;33m)\u001b[0m\u001b[1;33m\u001b[0m\u001b[1;33m\u001b[0m\u001b[0m\n\u001b[0m\u001b[0;32m    539\u001b[0m \u001b[1;33m\u001b[0m\u001b[0m\n\u001b[0;32m    540\u001b[0m \u001b[1;33m\u001b[0m\u001b[0m\n",
      "\u001b[1;31mValueError\u001b[0m: could not convert string to float: 'Gold'"
     ]
    }
   ],
   "source": [
    "from sklearn import metrics\n",
    "from sklearn.model_selection import train_test_split\n",
    "x_train,x_test,y_train,y_test = train_test_split(db,y,test_size=0.3)\n",
    "from sklearn.linear_model import LogisticRegression\n",
    "lr = LogisticRegression()\n",
    "lr.fit(x_train,y_train)\n",
    "pred = lr.predict(x_text)\n",
    "print(metrics.accuracy_score(pred,y_test))"
   ]
  }
 ],
 "metadata": {
  "kernelspec": {
   "display_name": "Python 3",
   "language": "python",
   "name": "python3"
  },
  "language_info": {
   "codemirror_mode": {
    "name": "ipython",
    "version": 3
   },
   "file_extension": ".py",
   "mimetype": "text/x-python",
   "name": "python",
   "nbconvert_exporter": "python",
   "pygments_lexer": "ipython3",
   "version": "3.7.3"
  }
 },
 "nbformat": 4,
 "nbformat_minor": 2
}
